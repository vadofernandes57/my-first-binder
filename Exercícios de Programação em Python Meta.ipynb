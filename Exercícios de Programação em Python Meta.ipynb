{
  "nbformat": 4,
  "nbformat_minor": 0,
  "metadata": {
    "colab": {
      "provenance": [],
      "authorship_tag": "ABX9TyNlZFtKyOFse+IqFF/ElFZb",
      "include_colab_link": true
    },
    "kernelspec": {
      "name": "python3",
      "display_name": "Python 3"
    },
    "language_info": {
      "name": "python"
    }
  },
  "cells": [
    {
      "cell_type": "markdown",
      "metadata": {
        "id": "view-in-github",
        "colab_type": "text"
      },
      "source": [
        "<a href=\"https://colab.research.google.com/github/vadofernandes57/my-first-binder/blob/main/Exerc%C3%ADcios%20de%20Programa%C3%A7%C3%A3o%20em%20Python%20Meta.ipynb\" target=\"_parent\"><img src=\"https://colab.research.google.com/assets/colab-badge.svg\" alt=\"Open In Colab\"/></a>"
      ]
    },
    {
      "cell_type": "markdown",
      "source": [
        "Exercicios Coursera Programação em Python\n",
        "Meta"
      ],
      "metadata": {
        "id": "RF4RT3XIYYu2"
      }
    },
    {
      "cell_type": "code",
      "execution_count": 4,
      "metadata": {
        "id": "xuosCUB-YVrF",
        "outputId": "06f67e93-470a-42c8-f320-7f7c1add10d4",
        "colab": {
          "base_uri": "https://localhost:8080/"
        }
      },
      "outputs": [
        {
          "output_type": "stream",
          "name": "stdout",
          "text": [
            "My Loop 0\n",
            "My Loop 1\n",
            "My Loop 2\n",
            "My Loop 3\n",
            "My Loop 4\n",
            "My Loop 5\n",
            "My Loop 6\n",
            "My Loop 7\n",
            "My Loop 8\n",
            "My Loop 9\n",
            "My Loop 10\n"
          ]
        }
      ],
      "source": [
        "# Looping constructs\n",
        "\n",
        "for i in range(10):\n",
        "  print(\"My Loop\",i)\n",
        "\n",
        "\n"
      ]
    }
  ]
}