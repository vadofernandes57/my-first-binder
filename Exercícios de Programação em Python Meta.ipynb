{
  "nbformat": 4,
  "nbformat_minor": 0,
  "metadata": {
    "colab": {
      "provenance": [],
      "authorship_tag": "ABX9TyOc4pudOwrBp+FgVvIs/HSP",
      "include_colab_link": true
    },
    "kernelspec": {
      "name": "python3",
      "display_name": "Python 3"
    },
    "language_info": {
      "name": "python"
    }
  },
  "cells": [
    {
      "cell_type": "markdown",
      "metadata": {
        "id": "view-in-github",
        "colab_type": "text"
      },
      "source": [
        "<a href=\"https://colab.research.google.com/github/vadofernandes57/my-first-binder/blob/main/Exerc%C3%ADcios%20de%20Programa%C3%A7%C3%A3o%20em%20Python%20Meta.ipynb\" target=\"_parent\"><img src=\"https://colab.research.google.com/assets/colab-badge.svg\" alt=\"Open In Colab\"/></a>"
      ]
    },
    {
      "cell_type": "markdown",
      "source": [
        "Exercicios Coursera Programação em Python\n",
        "Meta"
      ],
      "metadata": {
        "id": "RF4RT3XIYYu2"
      }
    },
    {
      "cell_type": "code",
      "execution_count": null,
      "metadata": {
        "id": "xuosCUB-YVrF",
        "colab": {
          "base_uri": "https://localhost:8080/"
        },
        "outputId": "baca30d9-c384-4c6d-cc6a-e901b20c5b3a"
      },
      "outputs": [
        {
          "output_type": "stream",
          "name": "stdout",
          "text": [
            "My Loop 0\n",
            "My Loop 1\n",
            "My Loop 2\n",
            "My Loop 3\n",
            "My Loop 4\n",
            "My Loop 5\n",
            "My Loop 6\n",
            "My Loop 7\n",
            "My Loop 8\n",
            "My Loop 9\n"
          ]
        }
      ],
      "source": [
        "# Looping constructs\n",
        "\n",
        "for i in range(10):\n",
        "  print(\"My Loop\",i)\n",
        "\n",
        "\n",
        "my_list = [4,27,16,13,28,22,18,\n",
        "10,15,16,3,20,11,27,\n",
        "17,5,12,29,4,10,24,\n",
        "4,24,20,18,23,8,11,\n",
        "2,30,13,20,19,10,27,\n",
        "12,5,10,24,14,11,17,\n",
        "24,21,17,3,9,27,20,\n",
        "27,1,19,28,31,6,13,\n",
        "17,16,3,29,1,15,20,\n",
        "4,30,19,17,21,22,10,\n",
        "22,2,31,23,26,21,27,\n",
        "4,21,10,28,13,8,20,\n",
        "19,8,13,7,6,9,16,\n",
        "16,8,30,5,11,10,29,\n",
        "26,9,2,1,18,30,21,\n",
        "4,14,27,23,8,20,21,\n",
        "31,29,24,27,1,17,8,\n",
        "12,29,5,18,24,16,22,\n",
        "31,30,21,24,9,11,26,\n",
        "17,20,3,12,2,15,16,\n",
        "5,27,17,14,20,22,26,\n",
        "28,8,4,23,1,26,2,\n",
        "11,12,5,4,13,29,7,\n",
        "29,17,9,31,12,4,15,\n",
        "13,4,10,5,25,12,9,\n",
        "9,10,30,2,31,12,29,\n",
        "24,30,7,28,31,16,8,\n",
        "29,14,6,17,20,8,31,\n",
        "26,14,30,24,8,28,23,\n",
        "21,3,31,15,24,20,17]\n",
        "\n",
        "#for number in my_list:\n",
        " # print(number)\n",
        "\n",
        "#for idx in range(len(my_list)):\n",
        "#  print(my_list[idx])\n",
        "\n",
        "#for idx, number in enumerate(my_list):\n",
        "  #print(idx, number)"
      ]
    },
    {
      "cell_type": "markdown",
      "source": [],
      "metadata": {
        "id": "WnK4eCJCdKZO"
      }
    },
    {
      "cell_type": "code",
      "source": [
        "# calculete tax\n",
        "\n",
        "bill =  (input(\"Enter the bill amount: \"))\n",
        "bill = bill.replace(\",\",\".\")\n",
        "bill = float(bill)\n",
        "\n",
        "\n",
        "tax_rate = 15 / 100\n",
        "\n",
        "\n",
        "def calculate_tax(bill, tax_rate):\n",
        "  return (bill * tax_rate)\n",
        "\n",
        "print(\"Bill value is:$ \",  bill)\n",
        "print(\"Tax value is:$ \" , calculate_tax(bill, tax_rate))\n",
        "print(\"Bill Value + tax is: $ \",bill + calculate_tax(bill, tax_rate))"
      ],
      "metadata": {
        "id": "HHt9U4t6rFoy",
        "outputId": "01ca0ce6-cb0d-46ce-ee16-ec90f1690c7f",
        "colab": {
          "base_uri": "https://localhost:8080/"
        }
      },
      "execution_count": null,
      "outputs": [
        {
          "output_type": "stream",
          "name": "stdout",
          "text": [
            "Enter the bill amount: 20150,15\n",
            "Bill value is:$  20150.15\n",
            "Tax value is:$  3022.5225\n",
            "Bill Value + tax is: $  23172.6725\n"
          ]
        }
      ]
    },
    {
      "cell_type": "code",
      "source": [
        "import numpy as np\n",
        "from collections import defaultdict\n",
        "import urllib.request\n",
        "import tempfile\n",
        "\n",
        "#url = 'https://raw.githubusercontent.com/dwyl/english-words/master/' \\\n",
        " #     'words_alpha.txt'\n",
        "\n",
        "url = ' https://www.ime.usp.br/~pf/dicios/br-utf8.txt'\n",
        "\n",
        "with tempfile.NamedTemporaryFile(suffix='.txt', delete=False) as tmp:\n",
        "    urllib.request.urlretrieve(url, tmp.name)\n",
        "\n",
        "    print('reading vocabulary')\n",
        "    words = []\n",
        "    struct = defaultdict(list)\n",
        "    with open(tmp.name, 'r') as f:\n",
        "        while True:\n",
        "            w = f.readline().rstrip('\\n')\n",
        "            if not w:\n",
        "                break\n",
        "            if len(w) >= 4:\n",
        "                ul = np.unique([l for l in w])\n",
        "                for l in ul:\n",
        "                    struct[l].append(w)\n",
        "print('done')\n",
        "\n",
        "mandatory = 'r'\n",
        "optional = {'b', 'A', 'o', 'E', 'M', 'n'}\n",
        "alphabet = optional.union(mandatory)\n",
        "print(f'mandatory: {mandatory}')\n",
        "print(f'optional: {optional}')\n",
        "print(f'alphabet: {alphabet}')\n",
        "\n",
        "print('Admissible words:')\n",
        "count = 0\n",
        "for w in struct[mandatory]:\n",
        "    if set([l for l in w]).issubset(alphabet):\n",
        "        count += 1\n",
        "        print(count, w)"
      ],
      "metadata": {
        "id": "Y4HFYGb8aQJv",
        "outputId": "6499a784-5516-4fad-9f04-b129c8ef1fcb",
        "colab": {
          "base_uri": "https://localhost:8080/"
        }
      },
      "execution_count": 9,
      "outputs": [
        {
          "output_type": "stream",
          "name": "stdout",
          "text": [
            "reading vocabulary\n",
            "done\n",
            "mandatory: r\n",
            "optional: {'o', 'b', 'E', 'M', 'n', 'A'}\n",
            "alphabet: {'r', 'o', 'b', 'E', 'M', 'n', 'A'}\n",
            "Admissible words:\n",
            "1 boro\n",
            "2 bororo\n",
            "3 borro\n",
            "4 orno\n"
          ]
        }
      ]
    }
  ]
}