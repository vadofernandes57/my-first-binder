{
  "cells": [
    {
      "cell_type": "markdown",
      "metadata": {
        "id": "cF3XT9DEiW2o"
      },
      "source": [
        "## <center>Introdução à Lógica de Programação</center>\n",
        "###  <center>Um curso prático para estudantes das Ciências da Vida</center>\n",
        "---\n",
        "## <center>Aula 1. Primeiros Passos</center>\n",
        "##### <center>Instrutor: <a href=\"https://pedrosiracusa.github.io\" target=\"_blank\">Pedro C. de Siracusa</a></center>"
      ]
    },
    {
      "cell_type": "markdown",
      "metadata": {
        "id": "1b5B3ubUiW2q"
      },
      "source": [
        "## O que é programar?\n",
        "\n",
        "Programar é como brincar com *LEGO*. Seguindo esta analogia, o trabalho do **programador** é construir estruturas complexas (como um castelo) encaixando blocos.\n",
        "Ele projeta as funcionalidades que deseja criar e planeja um passo-a-passo para chegar ate elas, partindo do pressuposto de que um conjunto de blocos fundamentais já estarão disponíveis para ele.\n",
        "O conjunto de blocos fundamentais disponíveis para o programador é o que constituiria uma **linguagem de programação**. Em termos gerais ela reúne conjuntos de regras e estruturas que permitem que o programador expresse suas ideias na forma de **código**. Escrever código seria como encaixar blocos. Sendo assim, o programador não precisa se preocupar em construir os blocos do zero antes de começar a trabalhar.\n",
        "\n",
        "<img src=\"https://github.com/pedrosiracusa/curso_intro_prog_biol/blob/verao_lncc_2019/aulas/img/lego_programming.png?raw=1\" >"
      ]
    },
    {
      "cell_type": "markdown",
      "metadata": {
        "id": "E6riPCZWiW2r"
      },
      "source": [
        "Neste curso você trabalhará com a linguagem [*Python*](https://www.python.org/), uma linguagem de **propósito geral** que oferece **alto nível** de abstração. Isso faz de *Python* uma excelente primeira linguagem a ser aprendida, pois *(i)* você poderá aplicar seus novos conhecimentos em programação a vários projetos e contextos diferentes; e *(ii)* você trabalhará projetando suas ideias, sem ter que se preocupar com os mínimos detalhes sobre como seu código funciona.\n",
        "\n",
        "Um componente fundamental da linguagem *Python* que nos permite **executar** o código que escrevemos é o **interpretador**.\n",
        "No fundo, o interpretador é um programa que executa programas! Ele lê as instruções que escrevemos na forma de código e as executa logo em seguida, sem antes precisar traduzi-lo para código de máquina. Quer ver um exemplo?\n",
        "\n",
        "Vamos começar construindo o [programa \"Hello World\"](https://www.wikiwand.com/en/%22Hello,_World!%22_program), uma tradição bem conhecida entre os programadores quando estão aprendendo uma linguagem nova.\n",
        "Este pequeno programa é encarado como um primeiro teste, e simplesmente imprime uma mensagem com o texto *\"Hello World\"* no console.\n",
        "Escrever o programa \"Hello World em *Python* é realmente muito simples. Veja na célula abaixo."
      ]
    },
    {
      "cell_type": "code",
      "execution_count": null,
      "metadata": {
        "id": "qP285kcbiW2s",
        "outputId": "879f2018-60f8-4b9a-86a5-27f59ef33f6d"
      },
      "outputs": [
        {
          "name": "stdout",
          "output_type": "stream",
          "text": [
            "Hello World\n"
          ]
        }
      ],
      "source": [
        "print(\"Hello World\")"
      ]
    },
    {
      "cell_type": "markdown",
      "metadata": {
        "id": "2S-AfTyDiW2t"
      },
      "source": [
        "O que fizemos foi simplesmente executar uma **função**, que já faz todo o \"trabalho sujo\" para nós. Esta função, que se chama `print`, recebe um texto como **argumento**, entre parênteses, e o imprime no console. No caso, o texto que passamos é `\"Hello World\"`. As aspas envolvendo o texto servem para dizer ao interpretador que estamos construindo uma *string* (o tipo de dado que usamos para representar texto)."
      ]
    },
    {
      "cell_type": "markdown",
      "metadata": {
        "id": "jFU1giRoiW2u"
      },
      "source": [
        "Por enquanto vamos focar no uso mais básico do interpretador *Python*, operando valores numéricos apenas.\n",
        "Nesta aula vamos aprender a usar o interpretador como uma calculadora um pouco mais elaborada.\n",
        "No fim você codificará um modelo de crescimento exponencial para estimar o tamanho populacional em uma cultura bacteriana."
      ]
    },
    {
      "cell_type": "markdown",
      "metadata": {
        "id": "GRfD13bDiW2v"
      },
      "source": [
        "### Objetivos.\n",
        "Após esta aula você deverá ser capaz de:\n",
        "\n",
        "* Reconhecer os principais **operadores numéricos**;\n",
        "* Construir e computar **expressões** matemáticas;\n",
        "* Armazenar e consultar resultados de computações em **variáveis**."
      ]
    },
    {
      "cell_type": "markdown",
      "metadata": {
        "id": "4ighF3vniW21"
      },
      "source": [
        "## 1. Tipos"
      ]
    },
    {
      "cell_type": "markdown",
      "metadata": {
        "id": "D206W91_iW22"
      },
      "source": [
        "**Tipos** são abstrações fundamentais nas linguagens de programação que nos permitem representar elementos de informação. Cada linguagem possui um conjunto de *tipos primitivos* (ou fundamentais), a partir dos quais o programador pode construir *tipos compostos*.\n",
        "Por enquanto vamos conhecer alguns dos tipos primitivos, que já vêm definidos na linguagem *Python*:\n",
        "\n",
        "* Tipos **numéricos**:\n",
        " * **Integer** (inteiros): Permite representar números inteiros, por exemplo `4`.\n",
        " * **Float** (ponto flutuante): Permite representar números com parte fracionária, por exemplo `42.5`.\n",
        "\n",
        "* **String**: Permite representar informação na forma de texto, por exemplo `\"Palavra\"` ou `\"C\"`. Usamos aspas (duplas ou simples) para representar informação textual. Em muitas outras linguagens de programação existe também o tipo caractere (ou char). Porém, em *Python* um caractere é uma string de comprimento 1.\n",
        "\n",
        "* **Boolean**: Representa informação em lógica binária, `True` ou `False`."
      ]
    },
    {
      "cell_type": "code",
      "execution_count": null,
      "metadata": {
        "id": "qRz074fXiW23",
        "outputId": "f61e416f-fec5-4344-9639-a3332cc99181"
      },
      "outputs": [
        {
          "name": "stdout",
          "output_type": "stream",
          "text": [
            "42 <class 'int'>\n",
            "42.5 <class 'float'>\n",
            "Palavra <class 'str'>\n",
            "C <class 'str'>\n",
            "True <class 'bool'>\n",
            "False <class 'bool'>\n"
          ]
        }
      ],
      "source": [
        "print(42, type(42))\n",
        "print(42.5, type(42.5))\n",
        "print(\"Palavra\", type(\"Palavra\"))\n",
        "print('C', type('C'))\n",
        "print(True, type(True))\n",
        "print(False, type(False))"
      ]
    },
    {
      "cell_type": "markdown",
      "metadata": {
        "id": "1bw7fkfEiW24"
      },
      "source": [
        "Veja os [tipos nativos](https://docs.python.org/3/library/stdtypes.html#built-in-types) da linguagem *Python*."
      ]
    },
    {
      "cell_type": "markdown",
      "metadata": {
        "id": "O3Q0bp5BiW24"
      },
      "source": [
        "## 2. Operadores e expressões"
      ]
    },
    {
      "cell_type": "markdown",
      "metadata": {
        "id": "a6b4JO-IiW25"
      },
      "source": [
        "**Operadores** são os símbolos que especificam as computações mais fundamentais, como por exemplo soma, subtração, multiplicação e divisão. Sempre que aplicamos um operador sobre dois operandos, esperamos obter algum resultado imediatamente. Podemos combinar vários operadores e operandos, construindo assim **expressões**. Veja na tabela abaixo os principais operadores numéricos da linguagem *Python*."
      ]
    },
    {
      "cell_type": "markdown",
      "metadata": {
        "id": "qtQk-FHUiW25"
      },
      "source": [
        "| Operação| Operador| Exemplo | Resultado\n",
        "|:-|---|-:|--|\n",
        "| Soma      | `+` | `9 + 7` | `16` |\n",
        "| Subtração | `-` | `9 - 7` | `2` |\n",
        "| Multiplicação | `*` | `9 * 7` | `63` |\n",
        "| Divisão | `/` | `5 / 2`| `2.5` |\n",
        "| Exponenciação | `**` | `9**2` | `81` |\n",
        "| Módulo | `%` | `9 % 2` | `1` |\n",
        "\n"
      ]
    },
    {
      "cell_type": "markdown",
      "metadata": {
        "id": "kEbf5aB4iW26"
      },
      "source": [
        "Experimente operar alguns números na célula abaixo"
      ]
    },
    {
      "cell_type": "code",
      "execution_count": null,
      "metadata": {
        "id": "fvGMwe5ZiW26",
        "outputId": "cded414f-b237-4495-9d81-0a7eca355796"
      },
      "outputs": [
        {
          "data": {
            "text/plain": [
              "49"
            ]
          },
          "execution_count": 3,
          "metadata": {},
          "output_type": "execute_result"
        }
      ],
      "source": [
        "42 + 7"
      ]
    },
    {
      "cell_type": "code",
      "execution_count": null,
      "metadata": {
        "id": "Dy_fk7F0iW27",
        "outputId": "556e9a42-257f-492b-c687-a0efe125f023"
      },
      "outputs": [
        {
          "data": {
            "text/plain": [
              "35"
            ]
          },
          "execution_count": 4,
          "metadata": {},
          "output_type": "execute_result"
        }
      ],
      "source": [
        "42 - 7"
      ]
    },
    {
      "cell_type": "code",
      "execution_count": null,
      "metadata": {
        "id": "5hyZRzydiW27",
        "outputId": "89379f60-8e5e-480d-d299-f40b7399cabb"
      },
      "outputs": [
        {
          "data": {
            "text/plain": [
              "256"
            ]
          },
          "execution_count": 5,
          "metadata": {},
          "output_type": "execute_result"
        }
      ],
      "source": [
        "2**8"
      ]
    },
    {
      "cell_type": "code",
      "execution_count": null,
      "metadata": {
        "id": "Kjd_vHWAiW28",
        "outputId": "8632aec4-ccbc-4dca-8eec-cc46250ff84a"
      },
      "outputs": [
        {
          "data": {
            "text/plain": [
              "0"
            ]
          },
          "execution_count": 6,
          "metadata": {},
          "output_type": "execute_result"
        }
      ],
      "source": [
        "6 % 3"
      ]
    },
    {
      "cell_type": "code",
      "execution_count": null,
      "metadata": {
        "id": "QUL6oOMIiW28",
        "outputId": "020bbb2a-7d06-4976-e567-5fdba0b38018"
      },
      "outputs": [
        {
          "data": {
            "text/plain": [
              "1"
            ]
          },
          "execution_count": 7,
          "metadata": {},
          "output_type": "execute_result"
        }
      ],
      "source": [
        "3 % 2"
      ]
    },
    {
      "cell_type": "code",
      "execution_count": null,
      "metadata": {
        "id": "_mTO3pPTiW29",
        "outputId": "0eb9f521-2ade-4c7b-ba38-2ec7e538a5df"
      },
      "outputs": [
        {
          "data": {
            "text/plain": [
              "3"
            ]
          },
          "execution_count": 8,
          "metadata": {},
          "output_type": "execute_result"
        }
      ],
      "source": [
        "3 % 5"
      ]
    },
    {
      "cell_type": "markdown",
      "metadata": {
        "id": "VCXE9vQJiW29"
      },
      "source": [
        "Você também pode criar expressões combinando valores e operadores!"
      ]
    },
    {
      "cell_type": "code",
      "execution_count": null,
      "metadata": {
        "id": "cTo5audfiW2-",
        "outputId": "44b02b1a-1dca-4200-fd82-a66e9d2613dd"
      },
      "outputs": [
        {
          "data": {
            "text/plain": [
              "48.7"
            ]
          },
          "execution_count": 9,
          "metadata": {},
          "output_type": "execute_result"
        }
      ],
      "source": [
        "42 + 7 - 3/10"
      ]
    },
    {
      "cell_type": "code",
      "execution_count": null,
      "metadata": {
        "id": "7Mwp1QCaiW3A",
        "outputId": "467e9365-4721-455c-fc0b-6bc42cd15b18"
      },
      "outputs": [
        {
          "data": {
            "text/plain": [
              "6"
            ]
          },
          "execution_count": 10,
          "metadata": {},
          "output_type": "execute_result"
        }
      ],
      "source": [
        "3*2 - 4%2"
      ]
    },
    {
      "cell_type": "markdown",
      "metadata": {
        "id": "0U8iQkSiiW3D"
      },
      "source": [
        "<b style=\"color:red\">Cuidado!</b> A ordem de avaliação dos elementos em uma expressão segue a mesma convenção de precedência utilizada na matemática. Elementos entre parênteses têm prioridade durante a avaliação."
      ]
    },
    {
      "cell_type": "markdown",
      "metadata": {
        "id": "Nh2igVBqiW3D"
      },
      "source": [
        "Na célula abaixo, represente a seguinte expressão em código e obtenha seu resultado:"
      ]
    },
    {
      "cell_type": "markdown",
      "metadata": {
        "id": "8pvyTltNiW3D"
      },
      "source": [
        "$$ \\frac{3+(3\\times5)}{2\\times(2+3)} $$"
      ]
    },
    {
      "cell_type": "code",
      "execution_count": null,
      "metadata": {
        "id": "4ofE-ZygiW3D",
        "outputId": "a00ff424-3d1d-495e-c9f7-a96df47e87d9"
      },
      "outputs": [
        {
          "data": {
            "text/plain": [
              "1.8"
            ]
          },
          "execution_count": 11,
          "metadata": {},
          "output_type": "execute_result"
        }
      ],
      "source": [
        "(3+(3*5))/(2*(2+3))"
      ]
    },
    {
      "cell_type": "markdown",
      "metadata": {
        "id": "pXw8K15jiW3E"
      },
      "source": [
        "> **Comentários**: Está vendo este `#` na primeira linha da célula acima? Linhas de código precedidas por este símbolo são comentários, que funcionam como mensagens a quem está lendo seu código, normalmente outros programadores.\n",
        "Qualquer coisa escrita na mesma linha **à direita** do símbolo é simplesmente ignorada pelo interpretador, ou seja, **não é executada**.\n",
        "É comum utilizar comentários para documentar partes de um código, ou marcar regiões que devem ser trabalhadas futuramente."
      ]
    },
    {
      "cell_type": "markdown",
      "metadata": {
        "id": "GbhR4pdWiW3E"
      },
      "source": [
        "## 3. Variáveis"
      ]
    },
    {
      "cell_type": "markdown",
      "metadata": {
        "id": "nOOjaqeliW3E"
      },
      "source": [
        "Quando estamos programando, frequentemente precisamos armazenar valores obtidos em etapas anteriores em memória.\n",
        "Assim, podemos re-utilizar estes valores sem precisar repetir todo o código.\n",
        "Linguagens de programação oferecem uma maneira bastante intuitiva para isso, por meio de **variáveis**.\n",
        "O símbolo que usamos para **atribuir** valores a variáveis é o sinal de igual (`=`). Na linguagem *Python*, uma variável é criada assim que atribuimos algum valor a ela.\n",
        "\n",
        "**obs:** O nome da variável sempre deve ser escrito à esquerda do símbolo `=`, e o valor a ser atribuído à variável, à direita."
      ]
    },
    {
      "cell_type": "markdown",
      "metadata": {
        "id": "E_eMKz8EiW3E"
      },
      "source": [
        "Por exemplo, podemos criar uma variável chamada `idade`, para armazenar sua idade. Assim, sempre que quisermos saber o valor atribuído a esta variável, basta escrever seu nome em uma célula e executá-la!"
      ]
    },
    {
      "cell_type": "code",
      "execution_count": null,
      "metadata": {
        "id": "Wok_5nV2iW3F"
      },
      "outputs": [],
      "source": [
        "idade = 29"
      ]
    },
    {
      "cell_type": "code",
      "execution_count": null,
      "metadata": {
        "id": "kDeraj4tiW3F",
        "outputId": "bef719ce-b294-4c95-9449-9c688126ad57"
      },
      "outputs": [
        {
          "data": {
            "text/plain": [
              "29"
            ]
          },
          "execution_count": 13,
          "metadata": {},
          "output_type": "execute_result"
        }
      ],
      "source": [
        "idade"
      ]
    },
    {
      "cell_type": "markdown",
      "metadata": {
        "id": "ut4A53PAiW3G"
      },
      "source": [
        "Declare uma variável chamada `semestre` que armazene o valor numérico do semestre que está cursando atualmente.\n",
        "Em seguida, escreva o nome da variável para obter seu valor."
      ]
    },
    {
      "cell_type": "code",
      "execution_count": null,
      "metadata": {
        "id": "e0EsK4LUiW3G"
      },
      "outputs": [],
      "source": [
        "semestre = 8"
      ]
    },
    {
      "cell_type": "code",
      "execution_count": null,
      "metadata": {
        "id": "ja3BjmW0iW3G",
        "outputId": "52e94c30-26ab-470c-9e30-d06ddfbfbee0"
      },
      "outputs": [
        {
          "data": {
            "text/plain": [
              "8"
            ]
          },
          "execution_count": 15,
          "metadata": {},
          "output_type": "execute_result"
        }
      ],
      "source": [
        "semestre"
      ]
    },
    {
      "cell_type": "markdown",
      "metadata": {
        "id": "j66zYmQTiW3G"
      },
      "source": [
        "Quando lidamos com expressões grandes e complexas pode ser interessante quebrá-las em várias sub-expressões. Veja o seguinte exemplo:"
      ]
    },
    {
      "cell_type": "markdown",
      "metadata": {
        "id": "hyZV-ekCiW3G"
      },
      "source": [
        "$$ 2 \\bigg[ \\frac{3\\times(2+5)-20}{3} \\bigg]^2 + \\sqrt 2 + 1  $$"
      ]
    },
    {
      "cell_type": "markdown",
      "metadata": {
        "id": "Z6D0UY1MiW3V"
      },
      "source": [
        "Para facilitar a codificação desta expressão, vamos escrevê-la nas seguintes etapas:\n",
        "\n",
        "1. Atribua o resultado de $\\frac{3\\times(2+5)-20}{3}$ a uma variável de nome `a`.\n",
        "2. Atribua o resultado de $\\sqrt{2}+1$ a uma variável de nome `b`. Lembrando que $\\sqrt{2} = 2^{\\frac{1}{2}}$\n",
        "3. Agora, compute o resultado da expressão inteira usando as variáveis que você acabou de criar. $2a^2 + b$ e atribua o resultado a uma variável de nome `c`.\n",
        "4. Por fim, imprima no console o valor da variável `c`."
      ]
    },
    {
      "cell_type": "code",
      "execution_count": null,
      "metadata": {
        "id": "pY8wAXRWiW3V",
        "outputId": "97779c76-3dfe-4ad7-c099-a05e7660f246"
      },
      "outputs": [
        {
          "data": {
            "text/plain": [
              "2.6364357845953172"
            ]
          },
          "execution_count": 16,
          "metadata": {},
          "output_type": "execute_result"
        }
      ],
      "source": [
        "a = (3*(2+5)-20)/3\n",
        "b = 2**(1/2) + 1\n",
        "c = 2*a**2 + b\n",
        "\n",
        "c"
      ]
    },
    {
      "cell_type": "markdown",
      "metadata": {
        "id": "1y8GxKkBiW3W"
      },
      "source": [
        "---"
      ]
    },
    {
      "cell_type": "markdown",
      "metadata": {
        "id": "v8zqkpiriW3W"
      },
      "source": [
        "## Exercícios"
      ]
    },
    {
      "cell_type": "markdown",
      "metadata": {
        "id": "QVsA8Q6qiW3W"
      },
      "source": [
        "**Ex 1.** Associe o resultado da expressão $2(10+1) + \\frac{8}{3+1}$ a uma variável de nome `a`.\n",
        "Em seguida, associe à mesma variável o valor $5$ e imprima seu valor no console, usando a função `print`.\n",
        "Qual valor será mostrado? E se você quisesse imprimir o resultado do primeiro valor que a variável recebeu?"
      ]
    },
    {
      "cell_type": "code",
      "execution_count": null,
      "metadata": {
        "id": "_PuPv1LpiW3W",
        "outputId": "648e781b-cf24-43fb-cc6a-525b106c0dde"
      },
      "outputs": [
        {
          "name": "stdout",
          "output_type": "stream",
          "text": [
            "Primeiro valor de a: 24.0\n",
            "Segundo valor de a: 5\n"
          ]
        }
      ],
      "source": [
        "a = 2*(10+1) + (8/(3+1))\n",
        "print(\"Primeiro valor de a:\",a)\n",
        "a = 5\n",
        "print(\"Segundo valor de a:\",a)"
      ]
    },
    {
      "cell_type": "markdown",
      "metadata": {
        "id": "9Nj4k52riW3X"
      },
      "source": [
        "**Ex 2.** Veja na célula abaixo a codificação da expressão $\\sqrt{\\frac{3(3+5)}{5+1}}$. Execute a célula e observe o resultado. O valor está correto? Caso não esteja, como corrigir a expressão?"
      ]
    },
    {
      "cell_type": "code",
      "execution_count": null,
      "metadata": {
        "id": "n-_Bf_xjiW3X",
        "outputId": "5373bf08-613e-44d2-8291-41c9a42f0101"
      },
      "outputs": [
        {
          "data": {
            "text/plain": [
              "2.0"
            ]
          },
          "execution_count": 18,
          "metadata": {},
          "output_type": "execute_result"
        }
      ],
      "source": [
        "( 3*(3+5) / (5+1) )**(1/2)"
      ]
    },
    {
      "cell_type": "markdown",
      "metadata": {
        "id": "lkSODFGCiW3X"
      },
      "source": [
        "**Ex 3.** Para valores de $x$ em $\\{ 1,5,8, 9\\}$, compute o valor da função $\\quad{}f(x) = \\beta_0 + \\beta_1 x \\quad{}$, com parâmetros $\\beta_0 = -1.3$ e $\\beta_1=3.5$."
      ]
    },
    {
      "cell_type": "code",
      "execution_count": null,
      "metadata": {
        "id": "hNrsZhfwiW3X",
        "outputId": "6aaa899d-ae25-4875-c53d-cd97449cfaa8"
      },
      "outputs": [
        {
          "name": "stdout",
          "output_type": "stream",
          "text": [
            "x = 1 -> f(x) = 2.2\n",
            "x = 5 -> f(x) = 16.2\n",
            "x = 8 -> f(x) = 26.7\n",
            "x = 9 -> f(x) = 30.2\n"
          ]
        }
      ],
      "source": [
        "# Crie as variáveis b0 e b1\n",
        "b0=-1.3\n",
        "b1=3.5\n",
        "\n",
        "# Para cada print, armazene os valores de x e f(x) nas variáveis x e f_x\n",
        "x = 1\n",
        "f_x = b0+b1*x\n",
        "print(\"x = 1 -> f(x) =\", f_x ) # res. esperado: 2.2\n",
        "\n",
        "x = 5\n",
        "f_x = b0+b1*x\n",
        "print(\"x = 5 -> f(x) =\", f_x ) # res. esperado: 16.2\n",
        "\n",
        "x = 8\n",
        "f_x = b0+b1*x\n",
        "print(\"x = 8 -> f(x) =\", f_x ) # res. esperado: 26.7\n",
        "\n",
        "x = 9\n",
        "f_x = b0+b1*x\n",
        "print(\"x = 9 -> f(x) =\", f_x ) # res. esperado: 30.2"
      ]
    },
    {
      "cell_type": "markdown",
      "source": [
        "Compute o valor de x, da função  f(x)=β0+β1x"
      ],
      "metadata": {
        "id": "JDAc6q7Mi3LG"
      }
    },
    {
      "cell_type": "code",
      "source": [
        "x = float(input(\"Enter x = \"))\n",
        "\n",
        "b0 = -1.3\n",
        "b1 = 3.5\n",
        "\n",
        "f_x = (b0 + b1) * x\n",
        "print(\" the value of x =\", f_x)"
      ],
      "metadata": {
        "id": "76Pv-H3Li53E",
        "outputId": "4b5408df-05ce-4f60-ca0b-5109a7c3b8b6",
        "colab": {
          "base_uri": "https://localhost:8080/"
        }
      },
      "execution_count": 8,
      "outputs": [
        {
          "output_type": "stream",
          "name": "stdout",
          "text": [
            "Enter x = 10.2\n",
            " the value of x = 22.44\n"
          ]
        }
      ]
    }
  ],
  "metadata": {
    "kernelspec": {
      "display_name": "Python 3",
      "language": "python",
      "name": "python3"
    },
    "language_info": {
      "codemirror_mode": {
        "name": "ipython",
        "version": 3
      },
      "file_extension": ".py",
      "mimetype": "text/x-python",
      "name": "python",
      "nbconvert_exporter": "python",
      "pygments_lexer": "ipython3",
      "version": "3.6.5"
    },
    "colab": {
      "provenance": []
    }
  },
  "nbformat": 4,
  "nbformat_minor": 0
}